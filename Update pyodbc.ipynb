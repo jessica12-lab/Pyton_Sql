{
 "cells": [
  {
   "cell_type": "code",
   "execution_count": null,
   "id": "adf57cc2",
   "metadata": {},
   "outputs": [],
   "source": [
    "import pyodbc"
   ]
  },
  {
   "cell_type": "code",
   "execution_count": null,
   "id": "4f4839d8",
   "metadata": {},
   "outputs": [],
   "source": [
    "dados_conexao = ('Driver={SQLite3 ODBC Driver};Server=localhost;Database=chinook.db')\n",
    "\n",
    "conexao = pyodbc.connect(dados_conexao)\n",
    "\n",
    "cursor = conexao.cursor()\n",
    "\n",
    "conexao.execute(\"\"\"\n",
    "UPDATE customers SET Email='jess@gmail.com' WHERE CustomerId=1\n",
    "\"\"\")\n",
    "\n",
    "conexao.commit()\n",
    "\n",
    "\n"
   ]
  },
  {
   "cell_type": "code",
   "execution_count": null,
   "id": "c557bfa1",
   "metadata": {},
   "outputs": [],
   "source": [
    "cursor.close()\n",
    "\n",
    "conexao.close()"
   ]
  }
 ],
 "metadata": {
  "kernelspec": {
   "display_name": "Python 3 (ipykernel)",
   "language": "python",
   "name": "python3"
  },
  "language_info": {
   "codemirror_mode": {
    "name": "ipython",
    "version": 3
   },
   "file_extension": ".py",
   "mimetype": "text/x-python",
   "name": "python",
   "nbconvert_exporter": "python",
   "pygments_lexer": "ipython3",
   "version": "3.9.12"
  }
 },
 "nbformat": 4,
 "nbformat_minor": 5
}
