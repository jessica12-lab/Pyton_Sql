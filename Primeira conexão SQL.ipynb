{
 "cells": [
  {
   "cell_type": "code",
   "execution_count": 3,
   "id": "912f5265",
   "metadata": {},
   "outputs": [],
   "source": [
    "import pyodbc"
   ]
  },
  {
   "cell_type": "code",
   "execution_count": 4,
   "id": "abb37b61",
   "metadata": {},
   "outputs": [],
   "source": [
    "conexao_dados = (\"Driver={SQLite3 ODBC Driver};\"\n",
    "           \"Server={localhost};\"\n",
    "           \"Database=chinook.db\")\n",
    "\n",
    "conexao = pyodbc.connect(conexao_dados)\n",
    "\n",
    "cursor = conexao.cursor()"
   ]
  },
  {
   "cell_type": "code",
   "execution_count": 5,
   "id": "082a6806",
   "metadata": {},
   "outputs": [
    {
     "ename": "Error",
     "evalue": "('HY000', '[HY000] database is locked (5) (5) (SQLExecDirectW)')",
     "output_type": "error",
     "traceback": [
      "\u001b[1;31m---------------------------------------------------------------------------\u001b[0m",
      "\u001b[1;31mError\u001b[0m                                     Traceback (most recent call last)",
      "Input \u001b[1;32mIn [5]\u001b[0m, in \u001b[0;36m<cell line: 1>\u001b[1;34m()\u001b[0m\n\u001b[1;32m----> 1\u001b[0m \u001b[43mcursor\u001b[49m\u001b[38;5;241;43m.\u001b[39;49m\u001b[43mexecute\u001b[49m\u001b[43m(\u001b[49m\u001b[38;5;124;43m\"\"\"\u001b[39;49m\n\u001b[0;32m      2\u001b[0m \u001b[38;5;124;43mSELECT * FROM customers\u001b[39;49m\n\u001b[0;32m      3\u001b[0m \u001b[38;5;124;43m\"\"\"\u001b[39;49m\n\u001b[0;32m      4\u001b[0m \u001b[43m)\u001b[49m\n\u001b[0;32m      5\u001b[0m valores \u001b[38;5;241m=\u001b[39m cursor\u001b[38;5;241m.\u001b[39mfetchall()\n\u001b[0;32m      6\u001b[0m \u001b[38;5;28mprint\u001b[39m(valores[:\u001b[38;5;241m10\u001b[39m])\n",
      "\u001b[1;31mError\u001b[0m: ('HY000', '[HY000] database is locked (5) (5) (SQLExecDirectW)')"
     ]
    }
   ],
   "source": [
    "cursor.execute(\"\"\"\n",
    "SELECT * FROM customers\n",
    "\"\"\"\n",
    ")\n",
    "valores = cursor.fetchall()\n",
    "print(valores[:10])"
   ]
  },
  {
   "cell_type": "code",
   "execution_count": null,
   "id": "92ffe69f",
   "metadata": {},
   "outputs": [],
   "source": [
    "cursor.close()\n",
    "conexao.close()"
   ]
  },
  {
   "cell_type": "code",
   "execution_count": null,
   "id": "7051fef0",
   "metadata": {},
   "outputs": [],
   "source": []
  }
 ],
 "metadata": {
  "kernelspec": {
   "display_name": "Python 3 (ipykernel)",
   "language": "python",
   "name": "python3"
  },
  "language_info": {
   "codemirror_mode": {
    "name": "ipython",
    "version": 3
   },
   "file_extension": ".py",
   "mimetype": "text/x-python",
   "name": "python",
   "nbconvert_exporter": "python",
   "pygments_lexer": "ipython3",
   "version": "3.9.12"
  }
 },
 "nbformat": 4,
 "nbformat_minor": 5
}
